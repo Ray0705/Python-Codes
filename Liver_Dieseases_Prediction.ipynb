{
 "cells": [
  {
   "cell_type": "markdown",
   "metadata": {},
   "source": [
    "# Detection of Liver Diseases"
   ]
  },
  {
   "cell_type": "markdown",
   "metadata": {},
   "source": [
    "## Context\n",
    "    \n",
    "Patients with Liver disease have been continuously increasing because of excessive consumption of alcohol, inhale of harmful gases, intake of contaminated food, pickles and drugs. This dataset was used to evaluate prediction algorithms in an effort to reduce burden on doctors."
   ]
  },
  {
   "cell_type": "markdown",
   "metadata": {},
   "source": [
    "## Overview\n",
    "\n",
    "This data set contains 583 records collected from North East of Andhra Pradesh, India. The \"Dataset\" column is a class label used to divide groups into liver patient (liver disease) or not (no disease). This data set contains 441 male patient records and 142 female patient records.\n",
    "\n",
    "Any patient whose age exceeded 89 is listed as being of age \"90\".\n",
    "\n",
    "Based on chemical compounds (bilrubin,albumin,protiens,alkaline phosphatase) present in human body and tests like SGOT, SGPT the outcome mentioned is whether person is a patient i.e, whether he needs to be diagnosed further or not.\n",
    "\n",
    "### Following are the features:-\n",
    "     1) Age :- Age of person\n",
    "     2) Gender :- Person's gender\n",
    "     3) Total_Bilirubin :- Total bilirubin content in the blood(mg/dL)\n",
    "     4) Direct_Bilirubin :-Conjugated bilirubin content in blood which is soluble in water(mg/dL)\n",
    "     5) Alkaline_Phosphotase :- Also known as ALP in IU/L\n",
    "     6) Alamine_Aminotransferase :- Also known as ALT in IU/L\n",
    "     7) Aspartate_Aminotransferase :- Also known as AST in IU/L\n",
    "     8) Total_Protiens :- measure of two class of protein (albumin and globulin) measured in g/dL\n",
    "     9) Albumin :- one of the class of protein present in blood measured in g/dL\n",
    "    10) Albumin_and_Globulin_Ratio :- Ratio of two classes of proteins present in blood\n",
    "    11) Class :- whether the given person is diagnosed with some liver diseases or not."
   ]
  },
  {
   "cell_type": "markdown",
   "metadata": {},
   "source": [
    "Before importing the data we should import all the required packages which will be useful while perfoming all the tasks like data pre-processing or data manipulation, EDA(Exploratory Data Analysis) and model etc."
   ]
  },
  {
   "cell_type": "code",
   "execution_count": 1,
   "metadata": {},
   "outputs": [],
   "source": [
    "import warnings\n",
    "import pandas as pd\n",
    "import matplotlib.pyplot as plt\n",
    "import seaborn as sn\n",
    "import numpy as np\n",
    "from sklearn import preprocessing\n",
    "from sklearn.utils import resample\n",
    "from sklearn.preprocessing import StandardScaler\n",
    "from sklearn.model_selection import train_test_split\n",
    "from sklearn.linear_model import LogisticRegression\n",
    "from sklearn.metrics import confusion_matrix, accuracy_score, classification_report, precision_score, recall_score\n",
    "from sklearn import metrics\n",
    "from sklearn.svm import SVC\n",
    "from sklearn.model_selection import KFold\n",
    "from sklearn.model_selection import GridSearchCV\n",
    "from xgboost import XGBClassifier\n",
    "from sklearn.ensemble import RandomForestClassifier"
   ]
  },
  {
   "cell_type": "code",
   "execution_count": 2,
   "metadata": {},
   "outputs": [
    {
     "data": {
      "text/html": [
       "<div>\n",
       "<style scoped>\n",
       "    .dataframe tbody tr th:only-of-type {\n",
       "        vertical-align: middle;\n",
       "    }\n",
       "\n",
       "    .dataframe tbody tr th {\n",
       "        vertical-align: top;\n",
       "    }\n",
       "\n",
       "    .dataframe thead th {\n",
       "        text-align: right;\n",
       "    }\n",
       "</style>\n",
       "<table border=\"1\" class=\"dataframe\">\n",
       "  <thead>\n",
       "    <tr style=\"text-align: right;\">\n",
       "      <th></th>\n",
       "      <th>1</th>\n",
       "      <th>2</th>\n",
       "      <th>3</th>\n",
       "      <th>4</th>\n",
       "      <th>5</th>\n",
       "      <th>6</th>\n",
       "      <th>7</th>\n",
       "      <th>8</th>\n",
       "      <th>9</th>\n",
       "      <th>10</th>\n",
       "      <th>11</th>\n",
       "    </tr>\n",
       "    <tr>\n",
       "      <th>0</th>\n",
       "      <th></th>\n",
       "      <th></th>\n",
       "      <th></th>\n",
       "      <th></th>\n",
       "      <th></th>\n",
       "      <th></th>\n",
       "      <th></th>\n",
       "      <th></th>\n",
       "      <th></th>\n",
       "      <th></th>\n",
       "      <th></th>\n",
       "    </tr>\n",
       "  </thead>\n",
       "  <tbody>\n",
       "    <tr>\n",
       "      <th>1</th>\n",
       "      <td>65</td>\n",
       "      <td>Female</td>\n",
       "      <td>0.7</td>\n",
       "      <td>0.1</td>\n",
       "      <td>187</td>\n",
       "      <td>16</td>\n",
       "      <td>18</td>\n",
       "      <td>6.8</td>\n",
       "      <td>3.3</td>\n",
       "      <td>0.90</td>\n",
       "      <td>No</td>\n",
       "    </tr>\n",
       "    <tr>\n",
       "      <th>2</th>\n",
       "      <td>62</td>\n",
       "      <td>Male</td>\n",
       "      <td>10.9</td>\n",
       "      <td>5.5</td>\n",
       "      <td>699</td>\n",
       "      <td>64</td>\n",
       "      <td>100</td>\n",
       "      <td>7.5</td>\n",
       "      <td>3.2</td>\n",
       "      <td>0.74</td>\n",
       "      <td>No</td>\n",
       "    </tr>\n",
       "    <tr>\n",
       "      <th>3</th>\n",
       "      <td>62</td>\n",
       "      <td>Male</td>\n",
       "      <td>7.3</td>\n",
       "      <td>4.1</td>\n",
       "      <td>490</td>\n",
       "      <td>60</td>\n",
       "      <td>68</td>\n",
       "      <td>7.0</td>\n",
       "      <td>3.3</td>\n",
       "      <td>0.89</td>\n",
       "      <td>No</td>\n",
       "    </tr>\n",
       "    <tr>\n",
       "      <th>4</th>\n",
       "      <td>58</td>\n",
       "      <td>Male</td>\n",
       "      <td>1.0</td>\n",
       "      <td>0.4</td>\n",
       "      <td>182</td>\n",
       "      <td>14</td>\n",
       "      <td>20</td>\n",
       "      <td>6.8</td>\n",
       "      <td>3.4</td>\n",
       "      <td>1.00</td>\n",
       "      <td>No</td>\n",
       "    </tr>\n",
       "    <tr>\n",
       "      <th>5</th>\n",
       "      <td>72</td>\n",
       "      <td>Male</td>\n",
       "      <td>3.9</td>\n",
       "      <td>2.0</td>\n",
       "      <td>195</td>\n",
       "      <td>27</td>\n",
       "      <td>59</td>\n",
       "      <td>7.3</td>\n",
       "      <td>2.4</td>\n",
       "      <td>0.40</td>\n",
       "      <td>No</td>\n",
       "    </tr>\n",
       "  </tbody>\n",
       "</table>\n",
       "</div>"
      ],
      "text/plain": [
       "   1       2     3    4    5   6    7    8    9     10  11\n",
       "0                                                         \n",
       "1  65  Female   0.7  0.1  187  16   18  6.8  3.3  0.90  No\n",
       "2  62    Male  10.9  5.5  699  64  100  7.5  3.2  0.74  No\n",
       "3  62    Male   7.3  4.1  490  60   68  7.0  3.3  0.89  No\n",
       "4  58    Male   1.0  0.4  182  14   20  6.8  3.4  1.00  No\n",
       "5  72    Male   3.9  2.0  195  27   59  7.3  2.4  0.40  No"
      ]
     },
     "execution_count": 2,
     "metadata": {},
     "output_type": "execute_result"
    }
   ],
   "source": [
    "# Importing the data for processing:-\n",
    "warnings.filterwarnings(\"ignore\") # to ignore warnings\n",
    "data = pd.read_csv(r\"Z:\\Data Science data\\Semester 2\\IndianLiverPatientData.txt\", \n",
    "                   header=None, sep=\"\\t\", index_col=0)\n",
    "# The given data is in textual format and text is seperated by the \"\\t\" but it didn't \n",
    "#                  had header(i.e. why header = None), keeping first column as index.\n",
    "\n",
    "data.head() # to see First 5 Observations"
   ]
  },
  {
   "cell_type": "code",
   "execution_count": 3,
   "metadata": {},
   "outputs": [
    {
     "data": {
      "text/html": [
       "<div>\n",
       "<style scoped>\n",
       "    .dataframe tbody tr th:only-of-type {\n",
       "        vertical-align: middle;\n",
       "    }\n",
       "\n",
       "    .dataframe tbody tr th {\n",
       "        vertical-align: top;\n",
       "    }\n",
       "\n",
       "    .dataframe thead th {\n",
       "        text-align: right;\n",
       "    }\n",
       "</style>\n",
       "<table border=\"1\" class=\"dataframe\">\n",
       "  <thead>\n",
       "    <tr style=\"text-align: right;\">\n",
       "      <th></th>\n",
       "      <th>Age</th>\n",
       "      <th>Gender</th>\n",
       "      <th>Total_Bilirubin</th>\n",
       "      <th>Direct_Bilirubin</th>\n",
       "      <th>Alkaline_Phosphotase</th>\n",
       "      <th>Alamine_Aminotransferase</th>\n",
       "      <th>Aspartate_Aminotransferase</th>\n",
       "      <th>Total_Protiens</th>\n",
       "      <th>Albumin</th>\n",
       "      <th>Albumin_and_Globulin_Ratio</th>\n",
       "      <th>Class</th>\n",
       "    </tr>\n",
       "    <tr>\n",
       "      <th>0</th>\n",
       "      <th></th>\n",
       "      <th></th>\n",
       "      <th></th>\n",
       "      <th></th>\n",
       "      <th></th>\n",
       "      <th></th>\n",
       "      <th></th>\n",
       "      <th></th>\n",
       "      <th></th>\n",
       "      <th></th>\n",
       "      <th></th>\n",
       "    </tr>\n",
       "  </thead>\n",
       "  <tbody>\n",
       "    <tr>\n",
       "      <th>1</th>\n",
       "      <td>65</td>\n",
       "      <td>Female</td>\n",
       "      <td>0.7</td>\n",
       "      <td>0.1</td>\n",
       "      <td>187</td>\n",
       "      <td>16</td>\n",
       "      <td>18</td>\n",
       "      <td>6.8</td>\n",
       "      <td>3.3</td>\n",
       "      <td>0.90</td>\n",
       "      <td>No</td>\n",
       "    </tr>\n",
       "    <tr>\n",
       "      <th>2</th>\n",
       "      <td>62</td>\n",
       "      <td>Male</td>\n",
       "      <td>10.9</td>\n",
       "      <td>5.5</td>\n",
       "      <td>699</td>\n",
       "      <td>64</td>\n",
       "      <td>100</td>\n",
       "      <td>7.5</td>\n",
       "      <td>3.2</td>\n",
       "      <td>0.74</td>\n",
       "      <td>No</td>\n",
       "    </tr>\n",
       "    <tr>\n",
       "      <th>3</th>\n",
       "      <td>62</td>\n",
       "      <td>Male</td>\n",
       "      <td>7.3</td>\n",
       "      <td>4.1</td>\n",
       "      <td>490</td>\n",
       "      <td>60</td>\n",
       "      <td>68</td>\n",
       "      <td>7.0</td>\n",
       "      <td>3.3</td>\n",
       "      <td>0.89</td>\n",
       "      <td>No</td>\n",
       "    </tr>\n",
       "    <tr>\n",
       "      <th>4</th>\n",
       "      <td>58</td>\n",
       "      <td>Male</td>\n",
       "      <td>1.0</td>\n",
       "      <td>0.4</td>\n",
       "      <td>182</td>\n",
       "      <td>14</td>\n",
       "      <td>20</td>\n",
       "      <td>6.8</td>\n",
       "      <td>3.4</td>\n",
       "      <td>1.00</td>\n",
       "      <td>No</td>\n",
       "    </tr>\n",
       "    <tr>\n",
       "      <th>5</th>\n",
       "      <td>72</td>\n",
       "      <td>Male</td>\n",
       "      <td>3.9</td>\n",
       "      <td>2.0</td>\n",
       "      <td>195</td>\n",
       "      <td>27</td>\n",
       "      <td>59</td>\n",
       "      <td>7.3</td>\n",
       "      <td>2.4</td>\n",
       "      <td>0.40</td>\n",
       "      <td>No</td>\n",
       "    </tr>\n",
       "  </tbody>\n",
       "</table>\n",
       "</div>"
      ],
      "text/plain": [
       "   Age  Gender  Total_Bilirubin  Direct_Bilirubin  Alkaline_Phosphotase  \\\n",
       "0                                                                         \n",
       "1   65  Female              0.7               0.1                   187   \n",
       "2   62    Male             10.9               5.5                   699   \n",
       "3   62    Male              7.3               4.1                   490   \n",
       "4   58    Male              1.0               0.4                   182   \n",
       "5   72    Male              3.9               2.0                   195   \n",
       "\n",
       "   Alamine_Aminotransferase  Aspartate_Aminotransferase  Total_Protiens  \\\n",
       "0                                                                         \n",
       "1                        16                          18             6.8   \n",
       "2                        64                         100             7.5   \n",
       "3                        60                          68             7.0   \n",
       "4                        14                          20             6.8   \n",
       "5                        27                          59             7.3   \n",
       "\n",
       "   Albumin  Albumin_and_Globulin_Ratio Class  \n",
       "0                                             \n",
       "1      3.3                        0.90    No  \n",
       "2      3.2                        0.74    No  \n",
       "3      3.3                        0.89    No  \n",
       "4      3.4                        1.00    No  \n",
       "5      2.4                        0.40    No  "
      ]
     },
     "execution_count": 3,
     "metadata": {},
     "output_type": "execute_result"
    }
   ],
   "source": [
    "# By the help of description of features we can give the column names to the imported data as there\n",
    "# is no header or column name.\n",
    "data.columns = ['Age', 'Gender', 'Total_Bilirubin', 'Direct_Bilirubin', 'Alkaline_Phosphotase',\n",
    "                'Alamine_Aminotransferase', 'Aspartate_Aminotransferase', 'Total_Protiens', 'Albumin',\n",
    "                'Albumin_and_Globulin_Ratio', 'Class']\n",
    "data.head() # to see and check whether the above changes has been done or not."
   ]
  },
  {
   "cell_type": "code",
   "execution_count": 4,
   "metadata": {},
   "outputs": [
    {
     "name": "stdout",
     "output_type": "stream",
     "text": [
      "Age                            0\n",
      "Gender                        20\n",
      "Total_Bilirubin                0\n",
      "Direct_Bilirubin               0\n",
      "Alkaline_Phosphotase           0\n",
      "Alamine_Aminotransferase       0\n",
      "Aspartate_Aminotransferase     0\n",
      "Total_Protiens                15\n",
      "Albumin                        0\n",
      "Albumin_and_Globulin_Ratio     4\n",
      "Class                          0\n",
      "dtype: int64\n"
     ]
    }
   ],
   "source": [
    "# After successfully importing the data first we have to check whether any missing value \n",
    "# are present in data or not. For that we do,\n",
    "print(data.isnull().sum())"
   ]
  },
  {
   "cell_type": "code",
   "execution_count": 5,
   "metadata": {},
   "outputs": [
    {
     "name": "stdout",
     "output_type": "stream",
     "text": [
      "               Age Gender  Total_Bilirubin  Direct_Bilirubin  \\\n",
      "count   583.000000    563       583.000000        583.000000   \n",
      "unique         NaN      2              NaN               NaN   \n",
      "top            NaN   Male              NaN               NaN   \n",
      "freq           NaN    421              NaN               NaN   \n",
      "mean     44.746141    NaN         3.298799          1.486106   \n",
      "std      16.189833    NaN         6.209522          2.808498   \n",
      "min       4.000000    NaN         0.400000          0.100000   \n",
      "25%      33.000000    NaN         0.800000          0.200000   \n",
      "50%      45.000000    NaN         1.000000          0.300000   \n",
      "75%      58.000000    NaN         2.600000          1.300000   \n",
      "max      90.000000    NaN        75.000000         19.700000   \n",
      "\n",
      "        Alkaline_Phosphotase  Alamine_Aminotransferase  \\\n",
      "count             583.000000                583.000000   \n",
      "unique                   NaN                       NaN   \n",
      "top                      NaN                       NaN   \n",
      "freq                     NaN                       NaN   \n",
      "mean              290.576329                 80.713551   \n",
      "std               242.937989                182.620356   \n",
      "min                63.000000                 10.000000   \n",
      "25%               175.500000                 23.000000   \n",
      "50%               208.000000                 35.000000   \n",
      "75%               298.000000                 60.500000   \n",
      "max              2110.000000               2000.000000   \n",
      "\n",
      "        Aspartate_Aminotransferase  Total_Protiens     Albumin  \\\n",
      "count                   583.000000      568.000000  583.000000   \n",
      "unique                         NaN             NaN         NaN   \n",
      "top                            NaN             NaN         NaN   \n",
      "freq                           NaN             NaN         NaN   \n",
      "mean                    109.910806        6.483979    3.141852   \n",
      "std                     288.918529        1.084039    0.795519   \n",
      "min                      10.000000        2.700000    0.900000   \n",
      "25%                      25.000000        5.800000    2.600000   \n",
      "50%                      42.000000        6.600000    3.100000   \n",
      "75%                      87.000000        7.200000    3.800000   \n",
      "max                    4929.000000        9.600000    5.500000   \n",
      "\n",
      "        Albumin_and_Globulin_Ratio Class  \n",
      "count                   579.000000   583  \n",
      "unique                         NaN     2  \n",
      "top                            NaN    No  \n",
      "freq                           NaN   416  \n",
      "mean                      0.947064   NaN  \n",
      "std                       0.319592   NaN  \n",
      "min                       0.300000   NaN  \n",
      "25%                       0.700000   NaN  \n",
      "50%                       0.930000   NaN  \n",
      "75%                       1.100000   NaN  \n",
      "max                       2.800000   NaN  \n"
     ]
    }
   ],
   "source": [
    "# We can replace the missing values with the central tendency of the \n",
    "# variables(i.e. mean, median or mode).For that we will check the summary of the data.\n",
    "print(data.describe(include='all'))"
   ]
  },
  {
   "cell_type": "code",
   "execution_count": 6,
   "metadata": {},
   "outputs": [
    {
     "name": "stdout",
     "output_type": "stream",
     "text": [
      "Age                           0\n",
      "Gender                        0\n",
      "Total_Bilirubin               0\n",
      "Direct_Bilirubin              0\n",
      "Alkaline_Phosphotase          0\n",
      "Alamine_Aminotransferase      0\n",
      "Aspartate_Aminotransferase    0\n",
      "Total_Protiens                0\n",
      "Albumin                       0\n",
      "Albumin_and_Globulin_Ratio    0\n",
      "Class                         0\n",
      "dtype: int64\n"
     ]
    }
   ],
   "source": [
    "# As Gender is categorical variables we will replace it with Mode and \n",
    "# Total Proteins and  Albumin_and_Globulin_Ratio are numeric variables we will replace it with median\n",
    "data2 = data.copy() # this is for only to not change the original data.    \n",
    "data2['Gender'].fillna(data2['Gender'].mode()[0], inplace=True)\n",
    "for value in ['Albumin_and_Globulin_Ratio', 'Total_Protiens']:\n",
    "    data2[value].fillna(data2[value].median(), inplace=True)\n",
    "\n",
    "# Checking whether the above changes been done to the dataset or not.\n",
    "print(data2.isnull().sum())"
   ]
  },
  {
   "cell_type": "code",
   "execution_count": 7,
   "metadata": {},
   "outputs": [
    {
     "name": "stdout",
     "output_type": "stream",
     "text": [
      "               Age Gender  Total_Bilirubin  Direct_Bilirubin  \\\n",
      "count   583.000000    583       583.000000        583.000000   \n",
      "unique         NaN      2              NaN               NaN   \n",
      "top            NaN   Male              NaN               NaN   \n",
      "freq           NaN    441              NaN               NaN   \n",
      "mean     44.746141    NaN         3.298799          1.486106   \n",
      "std      16.189833    NaN         6.209522          2.808498   \n",
      "min       4.000000    NaN         0.400000          0.100000   \n",
      "50%      45.000000    NaN         1.000000          0.300000   \n",
      "90%      66.000000    NaN         7.860000          4.080000   \n",
      "91%      66.000000    NaN         8.900000          4.500000   \n",
      "92%      67.440000    NaN        10.900000          5.144000   \n",
      "93%      69.260000    NaN        12.256000          6.252000   \n",
      "94%      70.000000    NaN        14.816000          7.608000   \n",
      "95%      72.000000    NaN        16.350000          8.400000   \n",
      "96%      72.720000    NaN        18.288000          8.972000   \n",
      "97%      74.540000    NaN        20.108000         10.108000   \n",
      "98%      75.000000    NaN        23.072000         11.736000   \n",
      "max      90.000000    NaN        75.000000         19.700000   \n",
      "\n",
      "        Alkaline_Phosphotase  Alamine_Aminotransferase  \\\n",
      "count             583.000000                583.000000   \n",
      "unique                   NaN                       NaN   \n",
      "top                      NaN                       NaN   \n",
      "freq                     NaN                       NaN   \n",
      "mean              290.576329                 80.713551   \n",
      "std               242.937989                182.620356   \n",
      "min                63.000000                 10.000000   \n",
      "50%               208.000000                 35.000000   \n",
      "90%               511.400000                140.000000   \n",
      "91%               549.440000                153.240000   \n",
      "92%               574.440000                166.880000   \n",
      "93%               610.520000                183.080000   \n",
      "94%               661.240000                198.560000   \n",
      "95%               698.100000                232.000000   \n",
      "96%               792.480000                341.440000   \n",
      "97%               908.560000                409.700000   \n",
      "98%              1103.600000                549.680000   \n",
      "max              2110.000000               2000.000000   \n",
      "\n",
      "        Aspartate_Aminotransferase  Total_Protiens     Albumin  \\\n",
      "count                   583.000000      583.000000  583.000000   \n",
      "unique                         NaN             NaN         NaN   \n",
      "top                            NaN             NaN         NaN   \n",
      "freq                           NaN             NaN         NaN   \n",
      "mean                    109.910806        6.486964    3.141852   \n",
      "std                     288.918529        1.070136    0.795519   \n",
      "min                      10.000000        2.700000    0.900000   \n",
      "50%                      42.000000        6.600000    3.100000   \n",
      "90%                     190.000000        7.900000    4.100000   \n",
      "91%                     230.620000        7.900000    4.200000   \n",
      "92%                     239.960000        8.000000    4.200000   \n",
      "93%                     277.600000        8.000000    4.300000   \n",
      "94%                     351.360000        8.000000    4.300000   \n",
      "95%                     400.900000        8.100000    4.390000   \n",
      "96%                     507.920000        8.200000    4.400000   \n",
      "97%                     626.780000        8.300000    4.500000   \n",
      "98%                     846.160000        8.500000    4.636000   \n",
      "max                    4929.000000        9.600000    5.500000   \n",
      "\n",
      "        Albumin_and_Globulin_Ratio Class  \n",
      "count                   583.000000   583  \n",
      "unique                         NaN     2  \n",
      "top                            NaN    No  \n",
      "freq                           NaN   416  \n",
      "mean                      0.946947   NaN  \n",
      "std                       0.318495   NaN  \n",
      "min                       0.300000   NaN  \n",
      "50%                       0.930000   NaN  \n",
      "90%                       1.300000   NaN  \n",
      "91%                       1.380000   NaN  \n",
      "92%                       1.400000   NaN  \n",
      "93%                       1.400000   NaN  \n",
      "94%                       1.400000   NaN  \n",
      "95%                       1.500000   NaN  \n",
      "96%                       1.507200   NaN  \n",
      "97%                       1.600000   NaN  \n",
      "98%                       1.700000   NaN  \n",
      "max                       2.800000   NaN  \n"
     ]
    }
   ],
   "source": [
    "# Next step of data cleaning is to take care of outliers\n",
    "print(data2.describe(np.arange(0.9, 0.99, 0.01), include='all')) # summary of the data"
   ]
  },
  {
   "cell_type": "code",
   "execution_count": 8,
   "metadata": {},
   "outputs": [
    {
     "name": "stdout",
     "output_type": "stream",
     "text": [
      "               Age Gender  Total_Bilirubin  Direct_Bilirubin  \\\n",
      "count   554.000000    554       554.000000        554.000000   \n",
      "unique         NaN      2              NaN               NaN   \n",
      "top            NaN   Male              NaN               NaN   \n",
      "freq           NaN    420              NaN               NaN   \n",
      "mean     44.599278    NaN         3.044224          1.356498   \n",
      "std      16.215381    NaN         6.034369          2.687107   \n",
      "min       4.000000    NaN         0.400000          0.100000   \n",
      "50%      45.000000    NaN         1.000000          0.300000   \n",
      "90%      65.700000    NaN         6.800000          3.270000   \n",
      "91%      66.000000    NaN         7.323000          4.000000   \n",
      "92%      66.760000    NaN         8.456000          4.300000   \n",
      "93%      69.290000    NaN        10.316000          5.058000   \n",
      "94%      70.000000    NaN        12.592000          6.892000   \n",
      "95%      72.000000    NaN        15.340000          7.940000   \n",
      "96%      72.000000    NaN        17.228000          8.764000   \n",
      "97%      74.410000    NaN        19.682000          9.500000   \n",
      "98%      75.000000    NaN        22.694000         11.270000   \n",
      "max      90.000000    NaN        75.000000         19.700000   \n",
      "\n",
      "        Alkaline_Phosphotase  Alamine_Aminotransferase  \\\n",
      "count             554.000000                554.000000   \n",
      "unique                   NaN                       NaN   \n",
      "top                      NaN                       NaN   \n",
      "freq                     NaN                       NaN   \n",
      "mean              256.442238                 56.194946   \n",
      "std               140.462956                 66.869836   \n",
      "min                63.000000                 10.000000   \n",
      "50%               205.000000                 33.000000   \n",
      "90%               459.400000                119.000000   \n",
      "91%               482.000000                132.230000   \n",
      "92%               496.080000                140.000000   \n",
      "93%               515.870000                152.580000   \n",
      "94%               554.820000                164.920000   \n",
      "95%               576.750000                179.700000   \n",
      "96%               611.760000                195.760000   \n",
      "97%               662.230000                230.820000   \n",
      "98%               698.460000                320.220000   \n",
      "max               901.000000                482.000000   \n",
      "\n",
      "        Aspartate_Aminotransferase  Total_Protiens     Albumin  \\\n",
      "count                   554.000000      554.000000  554.000000   \n",
      "unique                         NaN             NaN         NaN   \n",
      "top                            NaN             NaN         NaN   \n",
      "freq                           NaN             NaN         NaN   \n",
      "mean                     79.326715        6.512274    3.162816   \n",
      "std                     117.844826        1.066705    0.794322   \n",
      "min                      10.000000        2.700000    0.900000   \n",
      "50%                      40.000000        6.600000    3.100000   \n",
      "90%                     173.600000        7.900000    4.170000   \n",
      "91%                     181.920000        8.000000    4.200000   \n",
      "92%                     190.000000        8.000000    4.200000   \n",
      "93%                     230.290000        8.000000    4.300000   \n",
      "94%                     235.820000        8.082000    4.300000   \n",
      "95%                     258.750000        8.135000    4.400000   \n",
      "96%                     349.760000        8.200000    4.400000   \n",
      "97%                     398.230000        8.341000    4.500000   \n",
      "98%                     496.460000        8.500000    4.694000   \n",
      "max                     950.000000        9.600000    5.500000   \n",
      "\n",
      "        Albumin_and_Globulin_Ratio Class  \n",
      "count                   554.000000   554  \n",
      "unique                         NaN     2  \n",
      "top                            NaN    No  \n",
      "freq                           NaN   388  \n",
      "mean                      0.953664   NaN  \n",
      "std                       0.319211   NaN  \n",
      "min                       0.300000   NaN  \n",
      "50%                       0.960000   NaN  \n",
      "90%                       1.354000   NaN  \n",
      "91%                       1.400000   NaN  \n",
      "92%                       1.400000   NaN  \n",
      "93%                       1.400000   NaN  \n",
      "94%                       1.482000   NaN  \n",
      "95%                       1.500000   NaN  \n",
      "96%                       1.545200   NaN  \n",
      "97%                       1.600000   NaN  \n",
      "98%                       1.700000   NaN  \n",
      "max                       2.800000   NaN  \n"
     ]
    }
   ],
   "source": [
    "# As we can see there are some outliers which has to be treated or to be deleted therefore, we\n",
    "# reduce the no. of observation by removing the outliers.\n",
    "\n",
    "data3 = data2.loc[data2[\"Alkaline_Phosphotase\"] < 909]\n",
    "data4 = data3.loc[data3[\"Alamine_Aminotransferase\"] < 500]\n",
    "\n",
    "# To check whether the outliers are removed or not\n",
    "print(data4.describe(np.arange(0.9, 0.99, 0.01), include='all'))"
   ]
  },
  {
   "cell_type": "code",
   "execution_count": 9,
   "metadata": {},
   "outputs": [
    {
     "name": "stdout",
     "output_type": "stream",
     "text": [
      "                                 Age  Total_Bilirubin  Direct_Bilirubin  \\\n",
      "Age                         1.000000         0.020704          0.012033   \n",
      "Total_Bilirubin             0.020704         1.000000          0.860373   \n",
      "Direct_Bilirubin            0.012033         0.860373          1.000000   \n",
      "Alkaline_Phosphotase        0.009075         0.184910          0.209227   \n",
      "Alamine_Aminotransferase   -0.053116         0.223902          0.264239   \n",
      "Aspartate_Aminotransferase -0.007257         0.294169          0.328998   \n",
      "Total_Protiens             -0.185952         0.006380          0.012968   \n",
      "Albumin                    -0.265396        -0.224084         -0.234582   \n",
      "Albumin_and_Globulin_Ratio -0.207842        -0.200034         -0.194982   \n",
      "\n",
      "                            Alkaline_Phosphotase  Alamine_Aminotransferase  \\\n",
      "Age                                     0.009075                 -0.053116   \n",
      "Total_Bilirubin                         0.184910                  0.223902   \n",
      "Direct_Bilirubin                        0.209227                  0.264239   \n",
      "Alkaline_Phosphotase                    1.000000                  0.245415   \n",
      "Alamine_Aminotransferase                0.245415                  1.000000   \n",
      "Aspartate_Aminotransferase              0.156771                  0.774318   \n",
      "Total_Protiens                          0.024365                  0.067497   \n",
      "Albumin                                -0.136099                 -0.001841   \n",
      "Albumin_and_Globulin_Ratio             -0.224555                 -0.075860   \n",
      "\n",
      "                            Aspartate_Aminotransferase  Total_Protiens  \\\n",
      "Age                                          -0.007257       -0.185952   \n",
      "Total_Bilirubin                               0.294169        0.006380   \n",
      "Direct_Bilirubin                              0.328998        0.012968   \n",
      "Alkaline_Phosphotase                          0.156771        0.024365   \n",
      "Alamine_Aminotransferase                      0.774318        0.067497   \n",
      "Aspartate_Aminotransferase                    1.000000        0.044045   \n",
      "Total_Protiens                                0.044045        1.000000   \n",
      "Albumin                                      -0.112410        0.762831   \n",
      "Albumin_and_Globulin_Ratio                   -0.130274        0.215418   \n",
      "\n",
      "                             Albumin  Albumin_and_Globulin_Ratio  \n",
      "Age                        -0.265396                   -0.207842  \n",
      "Total_Bilirubin            -0.224084                   -0.200034  \n",
      "Direct_Bilirubin           -0.234582                   -0.194982  \n",
      "Alkaline_Phosphotase       -0.136099                   -0.224555  \n",
      "Alamine_Aminotransferase   -0.001841                   -0.075860  \n",
      "Aspartate_Aminotransferase -0.112410                   -0.130274  \n",
      "Total_Protiens              0.762831                    0.215418  \n",
      "Albumin                     1.000000                    0.680478  \n",
      "Albumin_and_Globulin_Ratio  0.680478                    1.000000  \n"
     ]
    }
   ],
   "source": [
    "# Spliting the data in independent and dependent variables for checking multicollinearity in \n",
    "# dependent variables.\n",
    "\n",
    "x = data4[['Age', 'Gender', 'Total_Bilirubin', 'Direct_Bilirubin',\n",
    "           'Alkaline_Phosphotase', 'Alamine_Aminotransferase',\n",
    "           'Aspartate_Aminotransferase', 'Total_Protiens', 'Albumin',\n",
    "           'Albumin_and_Globulin_Ratio']]\n",
    "y = data4[['Class']]\n",
    "corr1 = x.corr(method='pearson')\n",
    "print(corr1)"
   ]
  },
  {
   "cell_type": "markdown",
   "metadata": {},
   "source": [
    "Observing correlation between the data we can say that we are going to removing following columns:-\n",
    "\n",
    "    1) Albumin: - Because albumin is correlated to two of the variables that is albumin_and_globulin_ratio and total_proteins as it was expected from the description of the features or        variables.\n",
    "    2) Direct_Bilirubin:- As we can observe total_bilirubin and Direct_bilirubin are correlated   but total_bilirubin considers both direct_bilirubin and indirect_bilirubin, so keeping          total_bilirubin and droping direct_bilirubin.\n",
    "    3) Aspartate_Aminotransferase:- Between Alamine_Aminotransferase(ALT) and  Aspartate_Aminotransferase(AST), the ALT is more specific to liver compare to AST. As we are predicting the liver diseases we will check for ALT rather then AST."
   ]
  },
  {
   "cell_type": "code",
   "execution_count": 10,
   "metadata": {},
   "outputs": [
    {
     "data": {
      "text/plain": [
       "<matplotlib.axes._subplots.AxesSubplot at 0x28651aa6608>"
      ]
     },
     "execution_count": 10,
     "metadata": {},
     "output_type": "execute_result"
    },
    {
     "data": {
      "image/png": "[encoded data removed]",
      "text/plain": [
       "<Figure size 432x288 with 2 Axes>"
      ]
     },
     "metadata": {
      "needs_background": "light"
     },
     "output_type": "display_data"
    }
   ],
   "source": [
    "# removing the above correlated data  and checking again the data for correlation with help\n",
    "# of heatmap\n",
    "x = data4[['Age', 'Gender', 'Total_Bilirubin',\n",
    "           'Alkaline_Phosphotase', 'Alamine_Aminotransferase',\n",
    "           'Total_Protiens', 'Albumin_and_Globulin_Ratio']]\n",
    "coor2 = x.corr(method=\"pearson\")\n",
    "sn.heatmap(coor2, vmin=-1, vmax=1, annot=True)"
   ]
  },
  {
   "cell_type": "code",
   "execution_count": 11,
   "metadata": {},
   "outputs": [],
   "source": [
    "# Now concating the x ad y data to make the revise data with no multicolinearity and \n",
    "# controlled outliers\n",
    "data5 = pd.concat([x, y], axis=1)# axis =1 which means we have to concatenate according to columns.\n"
   ]
  },
  {
   "cell_type": "markdown",
   "metadata": {},
   "source": [
    "## Exploratory Data Analysis\n",
    "\n",
    "It is nothing but the initial investigation on data to discover pattern or to spot anomalies(if any) with the help of graphical representation."
   ]
  },
  {
   "cell_type": "markdown",
   "metadata": {},
   "source": [
    "### Age wise Class Distribution."
   ]
  },
  {
   "cell_type": "code",
   "execution_count": 12,
   "metadata": {},
   "outputs": [
    {
     "data": {
      "text/plain": [
       "Text(0.5,1,'Age wise Class distribution')"
      ]
     },
     "execution_count": 12,
     "metadata": {},
     "output_type": "execute_result"
    },
    {
     "data": {
      "image/png": "[encoded data removed]",
      "text/plain": [
       "<Figure size 432x288 with 1 Axes>"
      ]
     },
     "metadata": {
      "needs_background": "light"
     },
     "output_type": "display_data"
    }
   ],
   "source": [
    "data6 = data5.copy()\n",
    "data6['Age Group'] = pd.cut(data6['Age'],bins = [0,20,40,60,100],\n",
    "                            labels=['Teen','Young','Adult','Old'])\n",
    "sn.countplot('Age Group',hue = 'Class',data = data6)\n",
    "plt.xlabel('Age group of the Person')\n",
    "plt.ylabel('Frequency')\n",
    "plt.title('Age wise Class distribution')"
   ]
  },
  {
   "cell_type": "markdown",
   "metadata": {},
   "source": [
    "By above obseved graph we can say that the 33% of person below age 40 are more like to have liver diseases compared to the age group '40 to 60'. or simply we can say that if 3 person of age less than 40 come for testing then there is a probability of one having a liver disease."
   ]
  },
  {
   "cell_type": "markdown",
   "metadata": {},
   "source": [
    "### According to the Gender"
   ]
  },
  {
   "cell_type": "code",
   "execution_count": 13,
   "metadata": {},
   "outputs": [
    {
     "data": {
      "text/plain": [
       "Text(0.5,1,'According to Gender')"
      ]
     },
     "execution_count": 13,
     "metadata": {},
     "output_type": "execute_result"
    },
    {
     "data": {
      "image/png": "[encoded data removed]",
      "text/plain": [
       "<Figure size 432x288 with 1 Axes>"
      ]
     },
     "metadata": {
      "needs_background": "light"
     },
     "output_type": "display_data"
    }
   ],
   "source": [
    "sn.countplot('Gender',hue = 'Class',data = data6)\n",
    "plt.xlabel('Gender of Person')\n",
    "plt.ylabel('Frequency')\n",
    "plt.title('According to Gender')"
   ]
  },
  {
   "cell_type": "markdown",
   "metadata": {},
   "source": [
    "As per above the graph, we can say that the Male are having liver disease are almost double compared to the Female."
   ]
  },
  {
   "cell_type": "markdown",
   "metadata": {},
   "source": [
    "#### Converting the categorical variable to numeric varibales for simplicity(Encoding)."
   ]
  },
  {
   "cell_type": "markdown",
   "metadata": {},
   "source": [
    "The variable which are to converted are \n",
    "\n",
    "    1) Gender :-  0 for \"Female\" and 1 for \"Male\"\n",
    "    2) Class :- 0 for \"No\" and 1 for \"Yes\"."
   ]
  },
  {
   "cell_type": "code",
   "execution_count": 14,
   "metadata": {},
   "outputs": [
    {
     "name": "stdout",
     "output_type": "stream",
     "text": [
      "0    388\n",
      "1    166\n",
      "Name: Class, dtype: int64\n"
     ]
    }
   ],
   "source": [
    "col_name = ['Gender', 'Class'] # the column names which has to be converted\n",
    "le = {} # creating an empty list for storing the label encoder\n",
    "for value in col_name:\n",
    "    le[value] = preprocessing.LabelEncoder()\n",
    "for value in col_name:\n",
    "    data5[value] = le[value].fit_transform(data5[value])\n",
    "print(data5['Class'].value_counts())"
   ]
  },
  {
   "cell_type": "code",
   "execution_count": 15,
   "metadata": {},
   "outputs": [
    {
     "data": {
      "text/plain": [
       "1    388\n",
       "0    388\n",
       "Name: Class, dtype: int64"
      ]
     },
     "execution_count": 15,
     "metadata": {},
     "output_type": "execute_result"
    }
   ],
   "source": [
    "# As we can see that there is a class imbalancing in this problem for that we have to resample\n",
    "df_major = data5[data5['Class'] == 0]\n",
    "df_minor = data5[data5['Class'] == 1]\n",
    "\n",
    "up_sample = resample(df_minor, replace=True, n_samples=388, random_state=0)\n",
    "\n",
    "data6 = pd.concat([df_major, up_sample])\n",
    "data6['Class'].value_counts()"
   ]
  },
  {
   "cell_type": "markdown",
   "metadata": {},
   "source": [
    "After resampling there is a class balancing done to improve to predictibility of the data.Again we are separating the dependent and independent variable for building the model.And also scaling the independent data variables for building model. "
   ]
  },
  {
   "cell_type": "code",
   "execution_count": 16,
   "metadata": {},
   "outputs": [
    {
     "name": "stdout",
     "output_type": "stream",
     "text": [
      "[[ 1.29118127 -1.80012143 -0.34144154 ... -0.57566446  0.27026155\n",
      "  -0.24263569]\n",
      " [ 1.11123215  0.55551808  1.62707626 ...  0.24050293  0.92681823\n",
      "  -0.74997228]\n",
      " [ 1.11123215  0.55551808  0.93230527 ...  0.17248898  0.45784917\n",
      "  -0.27434422]\n",
      " ...\n",
      " [-1.94790277  0.55551808 -0.34144154 ... -0.40562958  0.55164298\n",
      "   1.34279117]\n",
      " [-1.88791973  0.55551808 -0.32214235 ... -0.04855635  0.17646774\n",
      "   0.39153506]\n",
      " [ 0.81131696  0.55551808 -0.28354396 ... -0.52465399 -1.23043943\n",
      "   0.70862043]]\n"
     ]
    }
   ],
   "source": [
    "x = data6[['Age', 'Gender', 'Total_Bilirubin', 'Alkaline_Phosphotase',\n",
    "           'Alamine_Aminotransferase', 'Total_Protiens',\n",
    "           'Albumin_and_Globulin_Ratio']] # independent variables\n",
    "y = data6[['Class']] # Dependent variables\n",
    "\n",
    "# Scaling the independent variables to give each and every independent variable equal weightage.\n",
    "# Therefore, all variables are equally weighted.\n",
    "scale = StandardScaler()\n",
    "scale.fit(x)\n",
    "x = scale.transform(x)\n",
    "print(x)"
   ]
  },
  {
   "cell_type": "markdown",
   "metadata": {},
   "source": [
    "#### Spliting the data into train and test.\n",
    "We are spliting the data in 80-20 pattern that is 80% training and 20% testing as the data is very small, this spliting pattern will be good. Because if we give more amount of observation then the model will be trained well or there might be chance of underfitting of model."
   ]
  },
  {
   "cell_type": "code",
   "execution_count": 17,
   "metadata": {},
   "outputs": [
    {
     "name": "stdout",
     "output_type": "stream",
     "text": [
      "This are some x_train value:-\n",
      "[[ 1.05124911  0.55551808 -0.32214235 ... -0.37162261  0.36405536\n",
      "  -0.24263569]\n",
      " [ 0.15150355  0.55551808 -0.36074074 ... -0.60967143  0.36405536\n",
      "  -0.24263569]\n",
      " [ 1.89101164  0.55551808  1.56917868 ... -0.21859122 -1.32423324\n",
      "  -1.51097717]\n",
      " ...\n",
      " [ 0.09152051  0.55551808 -0.32214235 ... -0.43963656 -0.19870751\n",
      "   0.07444968]\n",
      " [ 0.99126608  0.55551808 -0.05195363 ... -0.08256332 -0.38629513\n",
      "  -0.24263569]\n",
      " [-0.0884286   0.55551808 -0.32214235 ... -0.3886261   0.17646774\n",
      "  -0.55972106]]\n",
      "\n",
      "\n",
      "This are some x_test value:-\n",
      "[[ 1.47113038 -1.80012143 -0.34144154 ... -0.54165748 -0.1049137\n",
      "   1.34279117]\n",
      " [-0.20839468  0.55551808 -0.36074074 ... -0.50765051 -1.04285181\n",
      "  -0.55972106]\n",
      " [ 1.71106253  0.55551808 -0.34144154 ... -0.57566446  0.7392306\n",
      "   0.07444968]\n",
      " ...\n",
      " [-0.50830987 -1.80012143 -0.28354396 ...  1.41374355  1.30199347\n",
      "  -0.87680643]\n",
      " [-1.04815721 -1.80012143 -0.34144154 ... -0.23559471  1.5833749\n",
      "   0.39153506]\n",
      " [-1.04815721  0.55551808  0.8358093  ... -0.21859122 -2.73114041\n",
      "  -2.14514792]]\n",
      "\n",
      "\n",
      "This are some y_train value:-\n",
      "     Class\n",
      "0         \n",
      "458      1\n",
      "347      0\n",
      "179      0\n",
      "386      0\n",
      "240      0\n",
      "..     ...\n",
      "531      1\n",
      "287      0\n",
      "396      1\n",
      "368      1\n",
      "326      1\n",
      "\n",
      "[620 rows x 1 columns]\n",
      "\n",
      "\n",
      "This are some y_test value:-\n",
      "     Class\n",
      "0         \n",
      "228      0\n",
      "184      0\n",
      "380      1\n",
      "19       0\n",
      "25       1\n",
      "..     ...\n",
      "111      1\n",
      "25       1\n",
      "493      0\n",
      "353      0\n",
      "459      0\n",
      "\n",
      "[156 rows x 1 columns]\n"
     ]
    }
   ],
   "source": [
    "# Spliting into 80-20 pattern.\n",
    "from sklearn.model_selection import train_test_split\n",
    "\n",
    "x_train, x_test, y_train, y_test = train_test_split(x, y, test_size=0.2, random_state=0)\n",
    "\n",
    "print(\"This are some x_train value:-\")\n",
    "print(x_train)\n",
    "print(\"\\n\")\n",
    "print(\"This are some x_test value:-\")\n",
    "print(x_test)\n",
    "print(\"\\n\")\n",
    "print(\"This are some y_train value:-\")\n",
    "print(y_train)\n",
    "print(\"\\n\")\n",
    "print(\"This are some y_test value:-\")\n",
    "print(y_test)"
   ]
  },
  {
   "cell_type": "markdown",
   "metadata": {},
   "source": [
    "## Model Building Algorithm"
   ]
  },
  {
   "cell_type": "markdown",
   "metadata": {},
   "source": [
    "### Logistic Regression"
   ]
  },
  {
   "cell_type": "code",
   "execution_count": 18,
   "metadata": {},
   "outputs": [],
   "source": [
    "# building model for logistic regression\n",
    "model_lr = LogisticRegression()\n",
    "model_lr.fit(x_train, y_train)\n",
    "# Predicting the value of class in x_test with the help of model building.\n",
    "y_pred_lr = model_lr.predict(x_test)"
   ]
  },
  {
   "cell_type": "code",
   "execution_count": 19,
   "metadata": {},
   "outputs": [
    {
     "name": "stdout",
     "output_type": "stream",
     "text": [
      "Confusion Matrix:\n",
      "[[41 30]\n",
      " [19 66]]\n",
      "Accuracy: 0.6858974358974359\n",
      "Precision: 0.6875\n",
      "Recall: 0.7764705882352941\n",
      "Classification Report:\n",
      "              precision    recall  f1-score   support\n",
      "\n",
      "           0       0.68      0.58      0.63        71\n",
      "           1       0.69      0.78      0.73        85\n",
      "\n",
      "    accuracy                           0.69       156\n",
      "   macro avg       0.69      0.68      0.68       156\n",
      "weighted avg       0.69      0.69      0.68       156\n",
      "\n"
     ]
    }
   ],
   "source": [
    "# Checking the accuracy , recall , precision with help of confusion matrix.\n",
    "print(\"Confusion Matrix:\")\n",
    "print(confusion_matrix(y_test, y_pred_lr))\n",
    "print(\"Accuracy:\",accuracy_score(y_test, y_pred_lr))\n",
    "print(\"Precision:\", precision_score(y_test, y_pred_lr))\n",
    "print(\"Recall:\", recall_score(y_test, y_pred_lr))\n",
    "print(\"Classification Report:\")\n",
    "print(classification_report(y_test, y_pred_lr))"
   ]
  },
  {
   "cell_type": "code",
   "execution_count": 20,
   "metadata": {},
   "outputs": [
    {
     "name": "stdout",
     "output_type": "stream",
     "text": [
      "Probability of No and Yes: [[3.79015689e-01 6.20984311e-01]\n",
      " [3.15061664e-01 6.84938336e-01]\n",
      " [5.03658284e-01 4.96341716e-01]\n",
      " [8.76892943e-01 1.23107057e-01]\n",
      " [3.85386419e-01 6.14613581e-01]\n",
      " [3.42904387e-01 6.57095613e-01]\n",
      " [3.10812823e-01 6.89187177e-01]\n",
      " [3.84841870e-01 6.15158130e-01]\n",
      " [2.73809565e-01 7.26190435e-01]\n",
      " [3.88145628e-01 6.11854372e-01]\n",
      " [3.59816573e-01 6.40183427e-01]\n",
      " [3.36302097e-01 6.63697903e-01]\n",
      " [7.16060973e-01 2.83939027e-01]\n",
      " [3.10763336e-01 6.89236664e-01]\n",
      " [3.07018224e-01 6.92981776e-01]\n",
      " [3.88145628e-01 6.11854372e-01]\n",
      " [3.94509746e-01 6.05490254e-01]\n",
      " [5.69212388e-01 4.30787612e-01]\n",
      " [5.98679316e-01 4.01320684e-01]\n",
      " [5.93751541e-01 4.06248459e-01]\n",
      " [4.03036778e-01 5.96963222e-01]\n",
      " [2.20803501e-01 7.79196499e-01]\n",
      " [2.56669791e-01 7.43330209e-01]\n",
      " [2.73809565e-01 7.26190435e-01]\n",
      " [9.92174127e-01 7.82587320e-03]\n",
      " [3.90471903e-01 6.09528097e-01]\n",
      " [6.05807637e-01 3.94192363e-01]\n",
      " [2.43451824e-01 7.56548176e-01]\n",
      " [4.95418788e-01 5.04581212e-01]\n",
      " [5.69212388e-01 4.30787612e-01]\n",
      " [7.07644299e-01 2.92355701e-01]\n",
      " [9.06688507e-01 9.33114931e-02]\n",
      " [3.19267349e-01 6.80732651e-01]\n",
      " [4.13974047e-01 5.86025953e-01]\n",
      " [3.10812823e-01 6.89187177e-01]\n",
      " [3.81609614e-01 6.18390386e-01]\n",
      " [4.64449959e-01 5.35550041e-01]\n",
      " [5.98568958e-01 4.01431042e-01]\n",
      " [9.91743765e-01 8.25623548e-03]\n",
      " [4.86507424e-01 5.13492576e-01]\n",
      " [2.38835129e-01 7.61164871e-01]\n",
      " [4.87346008e-01 5.12653992e-01]\n",
      " [2.38397837e-01 7.61602163e-01]\n",
      " [4.03036778e-01 5.96963222e-01]\n",
      " [5.62671484e-01 4.37328516e-01]\n",
      " [9.98515433e-01 1.48456746e-03]\n",
      " [3.03010949e-01 6.96989051e-01]\n",
      " [3.79014877e-01 6.20985123e-01]\n",
      " [5.42738746e-01 4.57261254e-01]\n",
      " [8.73041399e-01 1.26958601e-01]\n",
      " [6.34869659e-01 3.65130341e-01]\n",
      " [6.85270531e-01 3.14729469e-01]\n",
      " [4.53845267e-01 5.46154733e-01]\n",
      " [4.00771570e-01 5.99228430e-01]\n",
      " [7.86112990e-01 2.13887010e-01]\n",
      " [9.99996035e-01 3.96501846e-06]\n",
      " [5.67778258e-01 4.32221742e-01]\n",
      " [9.96198740e-01 3.80125971e-03]\n",
      " [4.83863928e-01 5.16136072e-01]\n",
      " [5.00577378e-01 4.99422622e-01]\n",
      " [4.14810045e-01 5.85189955e-01]\n",
      " [2.32527928e-01 7.67472072e-01]\n",
      " [4.54921707e-01 5.45078293e-01]\n",
      " [7.60498846e-01 2.39501154e-01]\n",
      " [4.06605820e-01 5.93394180e-01]\n",
      " [5.21287336e-01 4.78712664e-01]\n",
      " [9.96963944e-01 3.03605569e-03]\n",
      " [2.50372469e-01 7.49627531e-01]\n",
      " [3.88145628e-01 6.11854372e-01]\n",
      " [9.18223301e-01 8.17766993e-02]\n",
      " [3.37235080e-01 6.62764920e-01]\n",
      " [2.75462494e-01 7.24537506e-01]\n",
      " [3.41451995e-01 6.58548005e-01]\n",
      " [2.93762536e-01 7.06237464e-01]\n",
      " [2.94212802e-01 7.05787198e-01]\n",
      " [3.13506319e-01 6.86493681e-01]\n",
      " [5.61831256e-01 4.38168744e-01]\n",
      " [2.56669791e-01 7.43330209e-01]\n",
      " [6.71117047e-01 3.28882953e-01]\n",
      " [3.56325539e-01 6.43674461e-01]\n",
      " [3.24748153e-01 6.75251847e-01]\n",
      " [2.43451824e-01 7.56548176e-01]\n",
      " [4.31327420e-01 5.68672580e-01]\n",
      " [3.35251797e-01 6.64748203e-01]\n",
      " [3.72372375e-01 6.27627625e-01]\n",
      " [9.98919167e-01 1.08083282e-03]\n",
      " [9.15354106e-01 8.46458940e-02]\n",
      " [2.95017267e-01 7.04982733e-01]\n",
      " [3.69020642e-01 6.30979358e-01]\n",
      " [9.81787406e-01 1.82125938e-02]\n",
      " [3.17188750e-01 6.82811250e-01]\n",
      " [3.33774386e-01 6.66225614e-01]\n",
      " [3.79014877e-01 6.20985123e-01]\n",
      " [3.61134351e-01 6.38865649e-01]\n",
      " [6.80960233e-01 3.19039767e-01]\n",
      " [3.40114822e-01 6.59885178e-01]\n",
      " [4.26154753e-01 5.73845247e-01]\n",
      " [5.42738746e-01 4.57261254e-01]\n",
      " [4.35508239e-01 5.64491761e-01]\n",
      " [3.28734792e-01 6.71265208e-01]\n",
      " [4.86507424e-01 5.13492576e-01]\n",
      " [3.26824059e-01 6.73175941e-01]\n",
      " [2.15863680e-01 7.84136320e-01]\n",
      " [3.33575970e-01 6.66424030e-01]\n",
      " [8.02320224e-01 1.97679776e-01]\n",
      " [5.27855795e-01 4.72144205e-01]\n",
      " [9.69709055e-01 3.02909451e-02]\n",
      " [5.18770701e-01 4.81229299e-01]\n",
      " [2.49224154e-01 7.50775846e-01]\n",
      " [1.52992519e-01 8.47007481e-01]\n",
      " [5.90766852e-01 4.09233148e-01]\n",
      " [2.88823981e-01 7.11176019e-01]\n",
      " [9.70865428e-01 2.91345724e-02]\n",
      " [6.31984730e-01 3.68015270e-01]\n",
      " [3.24748153e-01 6.75251847e-01]\n",
      " [9.99702595e-01 2.97405135e-04]\n",
      " [2.75462494e-01 7.24537506e-01]\n",
      " [3.67938666e-01 6.32061334e-01]\n",
      " [2.73520065e-01 7.26479935e-01]\n",
      " [2.67506832e-01 7.32493168e-01]\n",
      " [9.03930755e-01 9.60692452e-02]\n",
      " [3.73131893e-01 6.26868107e-01]\n",
      " [2.24104415e-01 7.75895585e-01]\n",
      " [4.35525277e-01 5.64474723e-01]\n",
      " [9.91571506e-01 8.42849427e-03]\n",
      " [9.99615116e-01 3.84884044e-04]\n",
      " [5.55836139e-01 4.44163861e-01]\n",
      " [7.13179984e-01 2.86820016e-01]\n",
      " [2.94107841e-01 7.05892159e-01]\n",
      " [4.51388281e-01 5.48611719e-01]\n",
      " [4.34263767e-01 5.65736233e-01]\n",
      " [4.53845267e-01 5.46154733e-01]\n",
      " [4.37018484e-01 5.62981516e-01]\n",
      " [2.16875029e-01 7.83124971e-01]\n",
      " [5.23328064e-01 4.76671936e-01]\n",
      " [4.16002870e-01 5.83997130e-01]\n",
      " [9.88541960e-01 1.14580400e-02]\n",
      " [2.95017267e-01 7.04982733e-01]\n",
      " [6.05229494e-01 3.94770506e-01]\n",
      " [2.50372469e-01 7.49627531e-01]\n",
      " [5.30404301e-01 4.69595699e-01]\n",
      " [5.16963147e-01 4.83036853e-01]\n",
      " [9.86161563e-01 1.38384374e-02]\n",
      " [3.13506319e-01 6.86493681e-01]\n",
      " [2.58742733e-01 7.41257267e-01]\n",
      " [3.16627167e-01 6.83372833e-01]\n",
      " [9.99977898e-01 2.21019831e-05]\n",
      " [9.81575573e-01 1.84244272e-02]\n",
      " [2.32527928e-01 7.67472072e-01]\n",
      " [8.69552135e-01 1.30447865e-01]\n",
      " [7.69999199e-01 2.30000801e-01]\n",
      " [2.43451824e-01 7.56548176e-01]\n",
      " [3.85386419e-01 6.14613581e-01]\n",
      " [9.16525795e-01 8.34742052e-02]\n",
      " [2.75227144e-01 7.24772856e-01]\n",
      " [8.08347056e-01 1.91652944e-01]]\n",
      "\n",
      "\n"
     ]
    }
   ],
   "source": [
    "# we know that bydefault cutoff is 0.5 let's check for the other cut-offs.\n",
    "y_pred_prob = model_lr.predict_proba(x_test)\n",
    "print(\"Probability of No and Yes:\",y_pred_prob)\n",
    "print(\"\\n\")"
   ]
  },
  {
   "cell_type": "code",
   "execution_count": 21,
   "metadata": {},
   "outputs": [
    {
     "name": "stdout",
     "output_type": "stream",
     "text": [
      "Errors at threshold  0.2 : 46  , type 2 error : 1  , type 1 error: 45\n",
      "Errors at threshold  0.21000000000000002 : 46  , type 2 error : 1  , type 1 error: 45\n",
      "Errors at threshold  0.22000000000000003 : 45  , type 2 error : 1  , type 1 error: 44\n",
      "Errors at threshold  0.23000000000000004 : 45  , type 2 error : 1  , type 1 error: 44\n",
      "Errors at threshold  0.24000000000000005 : 43  , type 2 error : 1  , type 1 error: 42\n",
      "Errors at threshold  0.25000000000000006 : 43  , type 2 error : 1  , type 1 error: 42\n",
      "Errors at threshold  0.26000000000000006 : 43  , type 2 error : 1  , type 1 error: 42\n",
      "Errors at threshold  0.2700000000000001 : 43  , type 2 error : 1  , type 1 error: 42\n",
      "Errors at threshold  0.2800000000000001 : 43  , type 2 error : 1  , type 1 error: 42\n",
      "Errors at threshold  0.2900000000000001 : 43  , type 2 error : 2  , type 1 error: 41\n",
      "Errors at threshold  0.3000000000000001 : 44  , type 2 error : 3  , type 1 error: 41\n",
      "Errors at threshold  0.3100000000000001 : 44  , type 2 error : 3  , type 1 error: 41\n",
      "Errors at threshold  0.3200000000000001 : 46  , type 2 error : 5  , type 1 error: 41\n",
      "Errors at threshold  0.3300000000000001 : 47  , type 2 error : 6  , type 1 error: 41\n",
      "Errors at threshold  0.34000000000000014 : 47  , type 2 error : 6  , type 1 error: 41\n",
      "Errors at threshold  0.35000000000000014 : 47  , type 2 error : 6  , type 1 error: 41\n",
      "Errors at threshold  0.36000000000000015 : 47  , type 2 error : 6  , type 1 error: 41\n",
      "Errors at threshold  0.37000000000000016 : 47  , type 2 error : 7  , type 1 error: 40\n",
      "Errors at threshold  0.38000000000000017 : 47  , type 2 error : 7  , type 1 error: 40\n",
      "Errors at threshold  0.3900000000000002 : 47  , type 2 error : 7  , type 1 error: 40\n",
      "Errors at threshold  0.4000000000000002 : 47  , type 2 error : 8  , type 1 error: 39\n",
      "Errors at threshold  0.4100000000000002 : 49  , type 2 error : 11  , type 1 error: 38\n",
      "Errors at threshold  0.4200000000000002 : 49  , type 2 error : 11  , type 1 error: 38\n",
      "Errors at threshold  0.4300000000000002 : 49  , type 2 error : 11  , type 1 error: 38\n",
      "Errors at threshold  0.4400000000000002 : 48  , type 2 error : 13  , type 1 error: 35\n",
      "Errors at threshold  0.45000000000000023 : 47  , type 2 error : 13  , type 1 error: 34\n",
      "Errors at threshold  0.46000000000000024 : 49  , type 2 error : 15  , type 1 error: 34\n",
      "Errors at threshold  0.47000000000000025 : 48  , type 2 error : 15  , type 1 error: 33\n",
      "Errors at threshold  0.48000000000000026 : 47  , type 2 error : 16  , type 1 error: 31\n",
      "Errors at threshold  0.49000000000000027 : 47  , type 2 error : 17  , type 1 error: 30\n"
     ]
    }
   ],
   "source": [
    "# For thersold we can check for range of cut-offs which is as follows:-\n",
    "for a in np.arange(0.2,0.5,0.01):\n",
    "    predict_mine = np.where(y_pred_prob[:,1] > a, 1, 0)\n",
    "    cfm=confusion_matrix(y_test, predict_mine)\n",
    "    total_err=cfm[0,1]+cfm[1,0]\n",
    "    print(\"Errors at threshold \", a, \":\",total_err, \" , type 2 error :\",\n",
    "          cfm[1,0],\" , type 1 error:\", cfm[0,1])"
   ]
  },
  {
   "cell_type": "code",
   "execution_count": 22,
   "metadata": {},
   "outputs": [
    {
     "data": {
      "image/png": "[encoded data removed]",
      "text/plain": [
       "<Figure size 432x288 with 1 Axes>"
      ]
     },
     "metadata": {
      "needs_background": "light"
     },
     "output_type": "display_data"
    },
    {
     "name": "stdout",
     "output_type": "stream",
     "text": [
      "Area under Curve: 0.7398508699254349\n"
     ]
    }
   ],
   "source": [
    "fpr, tpr, z = metrics.roc_curve(y_test, y_pred_prob[:,1])\n",
    "auc = metrics.auc(fpr,tpr)\n",
    "\n",
    "plt.title('Receiver Operating Characteristic')\n",
    "plt.plot(fpr, tpr, 'b', label = auc)\n",
    "plt.legend(loc = 'lower right')\n",
    "plt.plot([0, 1], [0, 1],'r--')\n",
    "plt.xlim([0, 1])\n",
    "plt.ylim([0, 1])\n",
    "plt.xlabel('False Positive Rate')\n",
    "plt.ylabel('True Positive Rate')\n",
    "plt.show()\n",
    "\n",
    "print(\"Area under Curve:\",auc)"
   ]
  },
  {
   "cell_type": "code",
   "execution_count": 23,
   "metadata": {},
   "outputs": [
    {
     "name": "stdout",
     "output_type": "stream",
     "text": [
      "Confusion Matrix:\n",
      "[[30 41]\n",
      " [ 2 83]]\n",
      "Accuracy: 0.7243589743589743\n",
      "Precision: 0.6693548387096774\n",
      "Recall: 0.9764705882352941\n",
      "Classification Report:\n",
      "              precision    recall  f1-score   support\n",
      "\n",
      "           0       0.94      0.42      0.58        71\n",
      "           1       0.67      0.98      0.79        85\n",
      "\n",
      "    accuracy                           0.72       156\n",
      "   macro avg       0.80      0.70      0.69       156\n",
      "weighted avg       0.79      0.72      0.70       156\n",
      "\n"
     ]
    }
   ],
   "source": [
    "# We know that in this case the type 2 error(i.e having diseases but not predicated), \n",
    "# therefore the thersold value can be taken as 0.29 where overall error is less as well as \n",
    "# less chances of overfitting.\n",
    "y_pred_lr = np.where(y_pred_prob[:,1]>0.29,1,0)\n",
    "# Now again checking the accuracy of the model.\n",
    "print(\"Confusion Matrix:\")\n",
    "print(confusion_matrix(y_test, y_pred_lr))\n",
    "print(\"Accuracy:\",accuracy_score(y_test, y_pred_lr))\n",
    "print(\"Precision:\", precision_score(y_test, y_pred_lr))\n",
    "print(\"Recall:\", recall_score(y_test, y_pred_lr))\n",
    "print(\"Classification Report:\")\n",
    "print(classification_report(y_test, y_pred_lr))"
   ]
  },
  {
   "cell_type": "markdown",
   "metadata": {},
   "source": [
    "    Accuracy of Model:- 0.7243 or 72.43%\n",
    "We can observed that as recall is closer to 1 which means we have a higher chances of predicting 1's or having diseases."
   ]
  },
  {
   "cell_type": "markdown",
   "metadata": {},
   "source": [
    "### Support Vector Machine"
   ]
  },
  {
   "cell_type": "code",
   "execution_count": 24,
   "metadata": {},
   "outputs": [],
   "source": [
    "# Building Model and predicting the values.\n",
    "model = SVC(C=1)  # i.e cost = 1\n",
    "model.fit(x_train, y_train)\n",
    "y_pred_svc = model.predict(x_test)"
   ]
  },
  {
   "cell_type": "code",
   "execution_count": 25,
   "metadata": {},
   "outputs": [
    {
     "name": "stdout",
     "output_type": "stream",
     "text": [
      "Confusion Matrix:\n",
      "[[36 35]\n",
      " [10 75]]\n",
      "Accuracy: 0.7115384615384616\n",
      "Precision: 0.6818181818181818\n",
      "Recall: 0.8823529411764706\n",
      "Classification Report:\n",
      "              precision    recall  f1-score   support\n",
      "\n",
      "           0       0.78      0.51      0.62        71\n",
      "           1       0.68      0.88      0.77        85\n",
      "\n",
      "    accuracy                           0.71       156\n",
      "   macro avg       0.73      0.69      0.69       156\n",
      "weighted avg       0.73      0.71      0.70       156\n",
      "\n"
     ]
    }
   ],
   "source": [
    "# Checking the accuracy , recall , precision with help of confusion matrix.\n",
    "print(\"Confusion Matrix:\")\n",
    "print(confusion_matrix(y_test, y_pred_svc))\n",
    "print(\"Accuracy:\",accuracy_score(y_test, y_pred_svc))\n",
    "print(\"Precision:\", precision_score(y_test, y_pred_svc))\n",
    "print(\"Recall:\", recall_score(y_test, y_pred_svc))\n",
    "print(\"Classification Report:\")\n",
    "print(classification_report(y_test, y_pred_svc))"
   ]
  },
  {
   "cell_type": "markdown",
   "metadata": {},
   "source": [
    "### Random Forest"
   ]
  },
  {
   "cell_type": "code",
   "execution_count": 26,
   "metadata": {},
   "outputs": [],
   "source": [
    "# Building the model and predicting the values.\n",
    "model_rf = RandomForestClassifier(n_estimators=10000,criterion=\"entropy\",min_samples_split=3,\n",
    "                                  random_state=0)\n",
    "model_rf.fit(x_train,y_train)\n",
    "y_pred_rf = model_rf.predict(x_test)"
   ]
  },
  {
   "cell_type": "code",
   "execution_count": 27,
   "metadata": {},
   "outputs": [
    {
     "name": "stdout",
     "output_type": "stream",
     "text": [
      "Confusion Matrix:\n",
      "[[50 21]\n",
      " [ 4 81]]\n",
      "Accuracy: 0.8397435897435898\n",
      "Precision: 0.7941176470588235\n",
      "Recall: 0.9529411764705882\n",
      "Classification Report:\n",
      "              precision    recall  f1-score   support\n",
      "\n",
      "           0       0.93      0.70      0.80        71\n",
      "           1       0.79      0.95      0.87        85\n",
      "\n",
      "    accuracy                           0.84       156\n",
      "   macro avg       0.86      0.83      0.83       156\n",
      "weighted avg       0.85      0.84      0.84       156\n",
      "\n"
     ]
    }
   ],
   "source": [
    "# Checking the accuracy , recall , precision with help of confusion matrix.\n",
    "print(\"Confusion Matrix:\")\n",
    "print(confusion_matrix(y_test, y_pred_rf))\n",
    "print(\"Accuracy:\",accuracy_score(y_test, y_pred_rf))\n",
    "print(\"Precision:\", precision_score(y_test, y_pred_rf))\n",
    "print(\"Recall:\", recall_score(y_test, y_pred_rf))\n",
    "print(\"Classification Report:\")\n",
    "print(classification_report(y_test, y_pred_rf))"
   ]
  },
  {
   "cell_type": "markdown",
   "metadata": {},
   "source": [
    "### XGBoost"
   ]
  },
  {
   "cell_type": "code",
   "execution_count": 28,
   "metadata": {},
   "outputs": [],
   "source": [
    "# Building the model and predicting the values\n",
    "from xgboost import XGBClassifier\n",
    "xgb = XGBClassifier(n_estimators=10000,gamma=0.29)\n",
    "xgb.fit(x_train, y_train)\n",
    "y_pred_xgb = xgb.predict(x_test)"
   ]
  },
  {
   "cell_type": "code",
   "execution_count": 29,
   "metadata": {},
   "outputs": [
    {
     "name": "stdout",
     "output_type": "stream",
     "text": [
      "Confusion Matrix:\n",
      "[[53 18]\n",
      " [ 6 79]]\n",
      "Accuracy: 0.8461538461538461\n",
      "Precision: 0.8144329896907216\n",
      "Recall: 0.9294117647058824\n",
      "Classification Report:\n",
      "              precision    recall  f1-score   support\n",
      "\n",
      "           0       0.90      0.75      0.82        71\n",
      "           1       0.81      0.93      0.87        85\n",
      "\n",
      "    accuracy                           0.85       156\n",
      "   macro avg       0.86      0.84      0.84       156\n",
      "weighted avg       0.85      0.85      0.84       156\n",
      "\n"
     ]
    }
   ],
   "source": [
    "# Checking the accuracy , recall , precision with help of confusion matrix.\n",
    "print(\"Confusion Matrix:\")\n",
    "print(confusion_matrix(y_test, y_pred_xgb))\n",
    "print(\"Accuracy:\",accuracy_score(y_test, y_pred_xgb))\n",
    "print(\"Precision:\", precision_score(y_test, y_pred_xgb))\n",
    "print(\"Recall:\", recall_score(y_test, y_pred_xgb))\n",
    "print(\"Classification Report:\")\n",
    "print(classification_report(y_test, y_pred_xgb))"
   ]
  },
  {
   "cell_type": "code",
   "execution_count": 30,
   "metadata": {},
   "outputs": [
    {
     "name": "stdout",
     "output_type": "stream",
     "text": [
      "                    Model  Accuracy\n",
      "0     Logistic Regression  0.724359\n",
      "1  Support Vector Machine  0.711538\n",
      "2           Random Forest  0.839744\n",
      "3                 XGBoost  0.846154\n"
     ]
    }
   ],
   "source": [
    "# Creating the list of algorithm and its accuracy.\n",
    "table = {\"Model\":[\"Logistic Regression\",\"Support Vector Machine\",\"Random Forest\",\"XGBoost\"],\n",
    "         \"Accuracy\":[accuracy_score(y_test, y_pred_lr),accuracy_score(y_test, y_pred_svc),\n",
    "                     accuracy_score(y_test, y_pred_rf),accuracy_score(y_test, y_pred_xgb)]}\n",
    "table = pd.DataFrame(table)\n",
    "print(table)"
   ]
  },
  {
   "cell_type": "markdown",
   "metadata": {},
   "source": [
    "## Conclusion"
   ]
  },
  {
   "cell_type": "markdown",
   "metadata": {},
   "source": [
    "After performing various classification techniques and taking into account their accuracies, we can conclude all the models had an accuracy ranging from 71% to 85%. Out of which XGBoost Algorithm gave a slightly better accuracy of 84.61%."
   ]
  }
 ],
 "metadata": {
  "kernelspec": {
   "display_name": "Python 3",
   "language": "python",
   "name": "python3"
  },
  "language_info": {
   "codemirror_mode": {
    "name": "ipython",
    "version": 3
   },
   "file_extension": ".py",
   "mimetype": "text/x-python",
   "name": "python",
   "nbconvert_exporter": "python",
   "pygments_lexer": "ipython3",
   "version": "3.7.4"
  }
 },
 "nbformat": 4,
 "nbformat_minor": 2
}
